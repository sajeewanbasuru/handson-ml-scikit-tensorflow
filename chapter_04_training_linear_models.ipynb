{
 "cells": [
  {
   "cell_type": "code",
   "execution_count": 1,
   "metadata": {},
   "outputs": [],
   "source": [
    "%config IPCompleter.greedy=True\n",
    "import numpy as np\n",
    "x = np.random.rand(10,2) # 10 exaples with feature size = 1"
   ]
  },
  {
   "cell_type": "code",
   "execution_count": 2,
   "metadata": {},
   "outputs": [
    {
     "data": {
      "text/plain": [
       "array([0.46177457, 0.29442732])"
      ]
     },
     "execution_count": 2,
     "metadata": {},
     "output_type": "execute_result"
    }
   ],
   "source": [
    "x[0]"
   ]
  },
  {
   "cell_type": "code",
   "execution_count": 3,
   "metadata": {},
   "outputs": [],
   "source": [
    "X = 2*np.random.rand(100, 1)\n",
    "y = 4 + 3*X + np.random.randn(100,1)"
   ]
  },
  {
   "cell_type": "code",
   "execution_count": 4,
   "metadata": {},
   "outputs": [
    {
     "data": {
      "text/plain": [
       "<Figure size 640x480 with 1 Axes>"
      ]
     },
     "metadata": {},
     "output_type": "display_data"
    }
   ],
   "source": [
    "import matplotlib.pyplot as plt\n",
    "plt.plot(X, y, \"b.\")\n",
    "plt.axis([0, 2, 0, 15])\n",
    "plt.show()"
   ]
  },
  {
   "cell_type": "code",
   "execution_count": 5,
   "metadata": {},
   "outputs": [
    {
     "data": {
      "text/plain": [
       "array([[3.72411056],\n",
       "       [3.10022838]])"
      ]
     },
     "execution_count": 5,
     "metadata": {},
     "output_type": "execute_result"
    }
   ],
   "source": [
    "# find the close form solution \n",
    "X_b = np.c_[np.ones((100, 1)), X]\n",
    "theta_best = np.linalg.inv(X_b.T.dot(X_b)).dot(X_b.T).dot(y)\n",
    "theta_best"
   ]
  },
  {
   "cell_type": "code",
   "execution_count": 6,
   "metadata": {},
   "outputs": [
    {
     "data": {
      "text/plain": [
       "LinearRegression(copy_X=True, fit_intercept=True, n_jobs=None,\n",
       "         normalize=False)"
      ]
     },
     "execution_count": 6,
     "metadata": {},
     "output_type": "execute_result"
    }
   ],
   "source": [
    "# Find parameters using linear regression models \n",
    "from sklearn.linear_model import LinearRegression\n",
    "lin_reg = LinearRegression()\n",
    "lin_reg.fit(X, y)\n",
    "\n"
   ]
  },
  {
   "cell_type": "code",
   "execution_count": 7,
   "metadata": {},
   "outputs": [
    {
     "data": {
      "text/plain": [
       "(array([3.72411056]), array([[3.10022838]]))"
      ]
     },
     "execution_count": 7,
     "metadata": {},
     "output_type": "execute_result"
    }
   ],
   "source": [
    "lin_reg.intercept_, lin_reg.coef_"
   ]
  },
  {
   "cell_type": "code",
   "execution_count": 8,
   "metadata": {},
   "outputs": [
    {
     "data": {
      "text/plain": [
       "array([[ 3.72411056],\n",
       "       [ 9.92456732],\n",
       "       [16.12502408]])"
      ]
     },
     "execution_count": 8,
     "metadata": {},
     "output_type": "execute_result"
    }
   ],
   "source": [
    "X_new = np.array([[0], [2], [4]])\n",
    "y_predict = lin_reg.predict(X_new)\n",
    "y_predict \n",
    "X_new_b = np.c_[np.ones((3,1)), X_new]\n",
    "y_predict_2 = X_new_b.dot(theta_best) \n",
    "y_predict_2"
   ]
  },
  {
   "cell_type": "code",
   "execution_count": 9,
   "metadata": {},
   "outputs": [
    {
     "data": {
      "image/png": "[encoded data removed]",
      "text/plain": [
       "<Figure size 432x288 with 1 Axes>"
      ]
     },
     "metadata": {},
     "output_type": "display_data"
    }
   ],
   "source": [
    "plt.plot(X, y, \"b.\")\n",
    "plt.axis([0, 2, 0, 15])\n",
    "plt.plot(X_new, y_predict, \"r-\")\n",
    "plt.plot(X_new, y_predict_2, \"g-\")\n",
    "plt.show()"
   ]
  },
  {
   "cell_type": "code",
   "execution_count": 10,
   "metadata": {},
   "outputs": [
    {
     "data": {
      "text/plain": [
       "'\\n* Tweak parameters iteratively to minimize a cost function\\n* cost funciton should be a convex function (MSE)\\n* Random initialization \\n* Learning rate \\n    - too small - take long time to converge \\n    - too high  - jump across the valley and end up on the other side\\n* cost functions with holes, ridges, plateaus or irregular terrains\\n    - reach global minimum and local minimum \\n    - very long time to cross plateau \\n* Features should be in same scale (use StandardScalar)\\n\\n'"
      ]
     },
     "execution_count": 10,
     "metadata": {},
     "output_type": "execute_result"
    }
   ],
   "source": [
    "\"\"\"\n",
    "* Tweak parameters iteratively to minimize a cost function\n",
    "* cost funciton should be a convex function (MSE)\n",
    "* Random initialization \n",
    "* Learning rate \n",
    "    - too small - take long time to converge \n",
    "    - too high  - jump across the valley and end up on the other side\n",
    "* cost functions with holes, ridges, plateaus or irregular terrains\n",
    "    - reach global minimum and local minimum \n",
    "    - very long time to cross plateau \n",
    "* Features should be in same scale (use StandardScalar)\n",
    "\n",
    "\"\"\""
   ]
  },
  {
   "cell_type": "code",
   "execution_count": 11,
   "metadata": {},
   "outputs": [
    {
     "name": "stdout",
     "output_type": "stream",
     "text": [
      "SUCCESS\n",
      "[[3.72411056]\n",
      " [3.10022838]]\n"
     ]
    },
    {
     "data": {
      "image/png": "[encoded data removed]",
      "text/plain": [
       "<Figure size 432x288 with 1 Axes>"
      ]
     },
     "metadata": {},
     "output_type": "display_data"
    }
   ],
   "source": [
    "# BATCH GRADIENT DESCENT \n",
    "eta = 0.2 # learning rate 0.02, 0.1, 0.2, 0.5\n",
    "n_iterations = 1000 \n",
    "m = 100\n",
    "theta = np.random.randn(2,1) # random initializtion \n",
    "\n",
    "plt.plot(X, y, \"b.\")\n",
    "plt.axis([0, 2, 0, 15])\n",
    "\n",
    "X_new = np.array([[0], [2], [4]])\n",
    "X_new_b = np.c_[np.ones((3,1)), X_new]\n",
    "\n",
    "\n",
    "for iteration in range(n_iterations): #epoch\n",
    "    grads = 2/m*X_b.T.dot(X_b.dot(theta) - y )\n",
    "    theta = theta - eta*grads\n",
    "    y_predict_2 = X_new_b.dot(theta) \n",
    "    plt.plot(X_new, y_predict_2, \"r-\")\n",
    "\n",
    "print(\"SUCCESS\")\n",
    "print(theta)\n",
    "plt.show()\n"
   ]
  },
  {
   "cell_type": "code",
   "execution_count": 12,
   "metadata": {},
   "outputs": [
    {
     "data": {
      "text/plain": [
       "array([[3.73900252],\n",
       "       [3.13355029]])"
      ]
     },
     "execution_count": 12,
     "metadata": {},
     "output_type": "execute_result"
    }
   ],
   "source": [
    "# Stochastic Gradient Descent \n",
    "# Take one Training example at a time\n",
    "n_epochs = 50 \n",
    "t0, t1 = 5, 50  #learning schedule hyperparameters \n",
    "\n",
    "def learning_schedule(t):\n",
    "    return t0 / (t  + t1)\n",
    "\n",
    "theta = np.random.randn(2,1) # random initalization \n",
    "\n",
    "for epoch in range(n_epochs):\n",
    "    for i in range(m):\n",
    "        random_index = np.random.randint(m)\n",
    "        xi = X_b[random_index:random_index+1]\n",
    "        yi = y[random_index:random_index+1]\n",
    "        grads = 2*xi.T.dot(xi.dot(theta) - yi)\n",
    "        eta = learning_schedule(epoch*m + i)\n",
    "        theta = theta - eta*grads \n",
    "\n",
    "\n",
    "theta\n",
    "\n"
   ]
  },
  {
   "cell_type": "code",
   "execution_count": 13,
   "metadata": {},
   "outputs": [
    {
     "name": "stderr",
     "output_type": "stream",
     "text": [
      "C:\\Users\\basuru\\AppData\\Local\\Continuum\\anaconda3\\lib\\site-packages\\sklearn\\linear_model\\stochastic_gradient.py:130: DeprecationWarning: n_iter parameter is deprecated in 0.19 and will be removed in 0.21. Use max_iter and tol instead.\n",
      "  DeprecationWarning)\n"
     ]
    },
    {
     "data": {
      "text/plain": [
       "SGDRegressor(alpha=0.0001, average=False, early_stopping=False, epsilon=0.1,\n",
       "       eta0=0.1, fit_intercept=True, l1_ratio=0.15,\n",
       "       learning_rate='invscaling', loss='squared_loss', max_iter=None,\n",
       "       n_iter=50, n_iter_no_change=5, penalty=None, power_t=0.25,\n",
       "       random_state=None, shuffle=True, tol=None, validation_fraction=0.1,\n",
       "       verbose=0, warm_start=False)"
      ]
     },
     "execution_count": 13,
     "metadata": {},
     "output_type": "execute_result"
    }
   ],
   "source": [
    "# Stochastic Gradient Descent using Sklearn\n",
    "from sklearn.linear_model import SGDRegressor\n",
    "sgd_reg = SGDRegressor(n_iter=50, penalty=None, eta0=0.1)\n",
    "sgd_reg.fit(X, y.ravel())"
   ]
  },
  {
   "cell_type": "code",
   "execution_count": 14,
   "metadata": {},
   "outputs": [
    {
     "data": {
      "text/plain": [
       "(array([3.7668145]), array([3.15135825]))"
      ]
     },
     "execution_count": 14,
     "metadata": {},
     "output_type": "execute_result"
    }
   ],
   "source": [
    "sgd_reg.intercept_, sgd_reg.coef_"
   ]
  },
  {
   "cell_type": "code",
   "execution_count": 132,
   "metadata": {},
   "outputs": [
    {
     "data": {
      "image/png": "[encoded data removed]",
      "text/plain": [
       "<Figure size 432x288 with 1 Axes>"
      ]
     },
     "metadata": {},
     "output_type": "display_data"
    }
   ],
   "source": [
    "# Polynomial regression \n",
    "import random\n",
    "random.seed( 30 )\n",
    "m = 100\n",
    "X = 6*np.random.rand(m, 1) - 3\n",
    "y = 0.5*X**2 + X + 2 + np.random.randn(m, 1)\n",
    "\n",
    "plt.plot(X, y, \".\")\n",
    "plt.show()"
   ]
  },
  {
   "cell_type": "code",
   "execution_count": 180,
   "metadata": {},
   "outputs": [
    {
     "data": {
      "image/png": "[encoded data removed]",
      "text/plain": [
       "<Figure size 432x288 with 1 Axes>"
      ]
     },
     "metadata": {},
     "output_type": "display_data"
    }
   ],
   "source": [
    "# If degree is 3 , all the possible conbination of features will be considered \n",
    "# a,b,c, --> a^3,b^3, c^3, ab, ab^2, ...  \n",
    "from sklearn.preprocessing import PolynomialFeatures\n",
    "from sklearn.preprocessing import StandardScaler\n",
    "\n",
    "X_new=np.linspace(-3, 3, 100).reshape(100, 1)\n",
    "# degree 2\n",
    "poly_features =  PolynomialFeatures(degree=2, include_bias=False)\n",
    "poly_features.fit(X)\n",
    "x_poly = poly_features.transform(X)\n",
    "std_scalar = StandardScaler()\n",
    "std_scalar.fit(x_poly)\n",
    "x_poly = std_scalar.transform(x_poly)\n",
    "\n",
    "lin_reg = LinearRegression()\n",
    "lin_reg.fit(x_poly, y)\n",
    "\n",
    "X_new_poly = poly_features.transform(X_new)\n",
    "X_new_poly = std_scalar.transform(X_new_poly)\n",
    "y_pred = lin_reg.predict(X_new_poly)\n",
    "\n",
    "# degree 300\n",
    "poly_features_300 =  PolynomialFeatures(degree=300, include_bias=False)\n",
    "poly_features_300.fit(X)\n",
    "x_poly_300 = poly_features_300.transform(X)\n",
    "\n",
    "std_scalar = StandardScaler()\n",
    "std_scalar.fit(x_poly_300)\n",
    "x_poly_300 = std_scalar.transform(x_poly_300)\n",
    "\n",
    "lin_reg_300 = LinearRegression()\n",
    "lin_reg_300.fit(x_poly_300, y)\n",
    "\n",
    "X_new_poly = poly_features_300.transform(X_new)\n",
    "X_new_poly = std_scalar.transform(X_new_poly)\n",
    "y_pred_300 = lin_reg_300.predict(X_new_poly)\n",
    "\n",
    "plt.axis([-3, 3, 0, 10])\n",
    "plt.plot(X, y, \".\")\n",
    "plt.plot(X_new, y_pred, \"-r\")\n",
    "plt.plot(X_new, y_pred_300, \"-g\")\n",
    "\n",
    "plt.show()"
   ]
  },
  {
   "cell_type": "code",
   "execution_count": null,
   "metadata": {},
   "outputs": [],
   "source": [
    "\n"
   ]
  },
  {
   "cell_type": "code",
   "execution_count": null,
   "metadata": {},
   "outputs": [],
   "source": []
  },
  {
   "cell_type": "code",
   "execution_count": null,
   "metadata": {
    "scrolled": true
   },
   "outputs": [],
   "source": [
    "\n",
    "\n",
    "\n"
   ]
  },
  {
   "cell_type": "code",
   "execution_count": 181,
   "metadata": {},
   "outputs": [],
   "source": [
    "# How to identify overfit , underfit in regression models \n",
    "# plot RMSE over training set size - "
   ]
  },
  {
   "cell_type": "code",
   "execution_count": 182,
   "metadata": {},
   "outputs": [
    {
     "data": {
      "text/plain": [
       "'\\nRegularized Linear Models \\n1. Ridge Regression\\n    - Forces learning algorithm to fit the data, but also keep the model weights\\n    small as possible \\n    - Regularization only adds with training \\n    - cost function can be different in training and validation \\n    - Sensitive to scale of the feature ( StandardScaler)\\n'"
      ]
     },
     "execution_count": 182,
     "metadata": {},
     "output_type": "execute_result"
    }
   ],
   "source": [
    "\"\"\"\n",
    "Regularized Linear Models \n",
    "1. Ridge Regression\n",
    "    - Forces learning algorithm to fit the data, but also keep the model weights\n",
    "    small as possible \n",
    "    - Regularization only adds with training \n",
    "    - cost function can be different in training and validation \n",
    "    - Sensitive to scale of the feature ( StandardScaler)\n",
    "\"\"\" \n",
    "\n"
   ]
  },
  {
   "cell_type": "code",
   "execution_count": 194,
   "metadata": {},
   "outputs": [
    {
     "data": {
      "image/png": "[encoded data removed]",
      "text/plain": [
       "<Figure size 432x288 with 1 Axes>"
      ]
     },
     "metadata": {},
     "output_type": "display_data"
    }
   ],
   "source": [
    "np.random.seed(42)\n",
    "m = 20\n",
    "X = 3 * np.random.rand(m, 1)\n",
    "y = 1 + 0.5 * X + np.random.randn(m, 1) / 1.5\n",
    "X_new = np.linspace(0, 3, 100).reshape(100, 1)\n",
    "\n",
    "poly_features =  PolynomialFeatures(degree=10, include_bias=False)\n",
    "x_poly = poly_features.fit_transform(X)\n",
    "scl = StandardScaler()\n",
    "scl.fit(x_poly)\n",
    "x_poly = scl.transform(x_poly)\n",
    "X_new_poly = poly_features.transform(X_new)\n",
    "X_new_poly = scl.transform(X_new_poly)\n",
    "\n",
    "#lin_reg = LinearRegression()\n",
    "#lin_reg.fit(x_poly, y)\n",
    "\n",
    "ridge_reg = Ridge(alpha=0, solver=\"cholesky\")\n",
    "ridge_reg.fit(x_poly, y)\n",
    "y_pred = ridge_reg.predict(X_new_poly)\n",
    "plt.plot(X, y, \".\")\n",
    "plt.plot(X_new, y_pred, \"-r\", label='0')\n",
    "\n",
    "ridge_reg = Ridge(alpha=1, solver=\"cholesky\")\n",
    "ridge_reg.fit(x_poly, y)\n",
    "y_pred = ridge_reg.predict(X_new_poly)\n",
    "plt.plot(X_new, y_pred, \"-b\", label='1')\n",
    "\n",
    "ridge_reg = Ridge(alpha=10**-5, solver=\"cholesky\")\n",
    "ridge_reg.fit(x_poly, y)\n",
    "y_pred = ridge_reg.predict(X_new_poly)\n",
    "plt.plot(X_new, y_pred, \"-g\", label='1e-5')\n",
    "\n",
    "plt.legend(loc=\"upper left\", fontsize=10)\n",
    "plt.axis([0, 3, 0, 4])\n",
    "plt.show()"
   ]
  },
  {
   "cell_type": "code",
   "execution_count": 208,
   "metadata": {},
   "outputs": [
    {
     "name": "stderr",
     "output_type": "stream",
     "text": [
      "C:\\Users\\basuru\\AppData\\Local\\Continuum\\anaconda3\\lib\\site-packages\\ipykernel_launcher.py:26: UserWarning: With alpha=0, this algorithm does not converge well. You are advised to use the LinearRegression estimator\n",
      "C:\\Users\\basuru\\AppData\\Local\\Continuum\\anaconda3\\lib\\site-packages\\sklearn\\linear_model\\coordinate_descent.py:477: UserWarning: Coordinate descent with no regularization may lead to unexpected results and is discouraged.\n",
      "  positive)\n",
      "C:\\Users\\basuru\\AppData\\Local\\Continuum\\anaconda3\\lib\\site-packages\\sklearn\\linear_model\\coordinate_descent.py:491: ConvergenceWarning: Objective did not converge. You might want to increase the number of iterations. Fitting data with very small alpha may cause precision problems.\n",
      "  ConvergenceWarning)\n",
      "C:\\Users\\basuru\\AppData\\Local\\Continuum\\anaconda3\\lib\\site-packages\\sklearn\\linear_model\\coordinate_descent.py:491: ConvergenceWarning: Objective did not converge. You might want to increase the number of iterations. Fitting data with very small alpha may cause precision problems.\n",
      "  ConvergenceWarning)\n"
     ]
    },
    {
     "data": {
      "image/png": "[encoded data removed]",
      "text/plain": [
       "<Figure size 432x288 with 1 Axes>"
      ]
     },
     "metadata": {},
     "output_type": "display_data"
    }
   ],
   "source": [
    "\"\"\"\n",
    "* lasso regression \n",
    "* l1 regularization \n",
    "*eliminate weights of least important features \n",
    "\n",
    "\"\"\"\n",
    "from sklearn.linear_model import Lasso\n",
    "from sklearn.preprocessing import StandardScaler\n",
    "\n",
    "np.random.seed(42)\n",
    "m = 20\n",
    "X = 3 * np.random.rand(m, 1)\n",
    "y = 1 + 0.5 * X + np.random.randn(m, 1) / 1.5\n",
    "X_new = np.linspace(0, 3, 100).reshape(100, 1)\n",
    "\n",
    "poly_features =  PolynomialFeatures(degree=10, include_bias=False)\n",
    "x_poly = poly_features.fit_transform(X)\n",
    "scl = StandardScaler()\n",
    "scl.fit(x_poly)\n",
    "x_poly = scl.transform(x_poly)\n",
    "X_new_poly = poly_features.transform(X_new)\n",
    "X_new_poly = scl.transform(X_new_poly)\n",
    "\n",
    "\n",
    "lasso = Lasso(alpha=0, tol=0.00001)\n",
    "lasso.fit(x_poly, y)\n",
    "y_pred = lasso.predict(X_new_poly)\n",
    "plt.plot(X_new, y_pred, \"-g\", label='0')\n",
    "\n",
    "lasso = Lasso(alpha=1, tol=0.00001)\n",
    "lasso.fit(x_poly, y)\n",
    "y_pred = lasso.predict(X_new_poly)\n",
    "plt.plot(X_new, y_pred, \"-r\", label='1')\n",
    "\n",
    "lasso = Lasso(alpha=10**-7, tol=0.00001)\n",
    "lasso.fit(x_poly, y)\n",
    "y_pred = lasso.predict(X_new_poly)\n",
    "plt.plot(X_new, y_pred, \"--\", label='1e-07')\n",
    "\n",
    "plt.legend(loc='upper left', fontsize=10)\n",
    "plt.plot(X, y, '.')\n",
    "plt.axis([0, 3, 0, 4])\n",
    "plt.show()\n",
    "\n",
    "\n",
    "\n"
   ]
  },
  {
   "cell_type": "code",
   "execution_count": 209,
   "metadata": {},
   "outputs": [
    {
     "data": {
      "text/plain": [
       "array([1.54333232])"
      ]
     },
     "execution_count": 209,
     "metadata": {},
     "output_type": "execute_result"
    }
   ],
   "source": [
    "# ElasticNet - combination of rigid and lasso \n",
    "from sklearn.linear_model import ElasticNet\n",
    "\n",
    "elastic_net = ElasticNet(alpha=0.1, l1_ratio=0.5)\n",
    "elastic_net.fit(X, y)\n",
    "elastic_net.predict([[1.5]])\n",
    "\n"
   ]
  },
  {
   "cell_type": "code",
   "execution_count": 237,
   "metadata": {},
   "outputs": [
    {
     "name": "stdout",
     "output_type": "stream",
     "text": [
      "(25, 1)\n",
      "(25, 1)\n"
     ]
    },
    {
     "data": {
      "image/png": "[encoded data removed]",
      "text/plain": [
       "<Figure size 432x288 with 1 Axes>"
      ]
     },
     "metadata": {},
     "output_type": "display_data"
    }
   ],
   "source": [
    "# Early stopping - Another regularization technique  \n",
    "from sklearn.model_selection import train_test_split\n",
    "from sklearn.pipeline import Pipeline\n",
    "from sklearn.metrics import mean_squared_error\n",
    "\n",
    "np.random.seed(42)\n",
    "m = 100\n",
    "X = 6 * np.random.rand(m, 1) - 3\n",
    "y = 2 + X + 0.5 * X**2 + np.random.randn(m, 1)\n",
    "\n",
    "X_train, X_val, y_train, y_val = train_test_split(X[:50], y[:50].ravel(), test_size=0.5, random_state=10)\n",
    "print(X_train.shape)\n",
    "print(X_val.shape)\n",
    "\n",
    "poly_scalar = Pipeline([\n",
    "                        (\"polynomial_features\", PolynomialFeatures(degree=90, include_bias=False)),\n",
    "                        (\"standard_scalar\", StandardScaler())\n",
    "                        ])\n",
    "\n",
    "#poly_scalar.fit(X_train, y)\n",
    "X_train_poly_scaled = poly_scalar.fit_transform(X_train, y)\n",
    "X_val_poly_scaled = poly_scalar.transform(X_val)\n",
    "\n",
    "sgd_reg = SGDRegressor(max_iter=1, eta0=0.0005, \n",
    "                       tol=-np.infty, random_state=42, \n",
    "                       warm_start=True, penalty=None, learning_rate='constant')  # batch gradient decent \n",
    "\n",
    "n_epochs=500\n",
    "train_errors, val_errors = [], []\n",
    "\n",
    "for epoch in range(0, n_epochs):\n",
    "    sgd_reg.fit(X_train_poly_scaled, y_train)\n",
    "    y_train_pred = sgd_reg.predict(X_train_poly_scaled)\n",
    "    y_val_pred = sgd_reg.predict(X_val_poly_scaled)\n",
    "    \n",
    "    train_error = mean_squared_error( y_train, y_train_pred)\n",
    "    val_error = mean_squared_error( y_val, y_val_pred)\n",
    "    \n",
    "    train_errors.append(train_error)\n",
    "    val_errors.append(val_error)\n",
    "    \n",
    "best_epoch = np.argmin(val_errors)\n",
    "best_val_rmse = np.sqrt(val_errors[best_epoch])\n",
    "\n",
    "best_val_rmse -= 0.03  # just to make the graph look better\n",
    "plt.plot([0, n_epochs], [best_val_rmse, best_val_rmse], \"k:\", linewidth=2)\n",
    "#print(train_errors.shape)\n",
    "plt.plot( np.sqrt(train_errors), '-', label='train set')\n",
    "plt.plot(np.sqrt(val_errors), '-r', label='validation set')\n",
    "plt.legend(loc='upper left')\n",
    "plt.show()\n",
    "\n",
    "\n",
    "\n",
    "\n"
   ]
  },
  {
   "cell_type": "code",
   "execution_count": 235,
   "metadata": {},
   "outputs": [
    {
     "name": "stdout",
     "output_type": "stream",
     "text": [
      "(25, 1)\n",
      "(25, 1)\n"
     ]
    },
    {
     "data": {
      "image/png": "[encoded data removed]",
      "text/plain": [
       "<Figure size 432x288 with 1 Axes>"
      ]
     },
     "metadata": {},
     "output_type": "display_data"
    }
   ],
   "source": [
    "np.random.seed(42)\n",
    "m = 100\n",
    "X = 6 * np.random.rand(m, 1) - 3\n",
    "y = 2 + X + 0.5 * X**2 + np.random.randn(m, 1)\n",
    "\n",
    "X_train, X_val, y_train, y_val = train_test_split(X[:50], y[:50].ravel(), test_size=0.5, random_state=10)\n",
    "\n",
    "print(X_train.shape)\n",
    "print(X_val.shape)\n",
    "\n",
    "poly_scaler = Pipeline([\n",
    "        (\"poly_features\", PolynomialFeatures(degree=90, include_bias=False)),\n",
    "        (\"std_scaler\", StandardScaler()),\n",
    "    ])\n",
    "\n",
    "X_train_poly_scaled = poly_scaler.fit_transform(X_train)\n",
    "X_val_poly_scaled = poly_scaler.transform(X_val)\n",
    "\n",
    "sgd_reg = SGDRegressor(max_iter=1,\n",
    "                       tol=-np.infty,\n",
    "                       penalty=None,\n",
    "                       eta0=0.0005,\n",
    "                       warm_start=True,\n",
    "                       learning_rate=\"constant\",\n",
    "                       random_state=42)\n",
    "\n",
    "n_epochs = 500\n",
    "train_errors, val_errors = [], []\n",
    "for epoch in range(n_epochs):\n",
    "    sgd_reg.fit(X_train_poly_scaled, y_train)\n",
    "    y_train_predict = sgd_reg.predict(X_train_poly_scaled)\n",
    "    y_val_predict = sgd_reg.predict(X_val_poly_scaled)\n",
    "    train_errors.append(mean_squared_error(y_train, y_train_predict))\n",
    "    val_errors.append(mean_squared_error(y_val, y_val_predict))\n",
    "\n",
    "best_epoch = np.argmin(val_errors)\n",
    "best_val_rmse = np.sqrt(val_errors[best_epoch])\n",
    "\n",
    "plt.annotate('Best model',\n",
    "             xy=(best_epoch, best_val_rmse),\n",
    "             xytext=(best_epoch, best_val_rmse + 1),\n",
    "             ha=\"center\",\n",
    "             arrowprops=dict(facecolor='black', shrink=0.05),\n",
    "             fontsize=16,\n",
    "            )\n",
    "\n",
    "best_val_rmse -= 0.03  # just to make the graph look better\n",
    "plt.plot([0, n_epochs], [best_val_rmse, best_val_rmse], \"k:\", linewidth=2)\n",
    "plt.plot(np.sqrt(val_errors), \"b-\", linewidth=3, label=\"Validation set\")\n",
    "plt.plot(np.sqrt(train_errors), \"r--\", linewidth=2, label=\"Training set\")\n",
    "plt.legend(loc=\"upper right\", fontsize=14)\n",
    "plt.xlabel(\"Epoch\", fontsize=14)\n",
    "plt.ylabel(\"RMSE\", fontsize=14)\n",
    "#save_fig(\"early_stopping_plot\")\n",
    "plt.show()"
   ]
  },
  {
   "cell_type": "code",
   "execution_count": 238,
   "metadata": {},
   "outputs": [
    {
     "data": {
      "text/plain": [
       "'\\nSummary - chapter 04 - Training Models \\n\\n** Linear/Polynomial Regression \\n* We Need Gradient descent when there is no closed form solution (normal equation) or total data set is not fit to the memory \\n* Tweak parameters iteratively to minimize a cost function\\n* cost funciton should be a convex function (MSE)\\n* Random initialization \\n* Learning rate \\n    - too small - take long time to converge \\n    - too high  - jump across the valley and end up on the other side\\n* cost functions with holes, ridges, plateaus or irregular terrains\\n    - reach global minimum and local minimum \\n    - very long time to cross plateau \\n* Features should be in same scale (use StandardScalar)\\n\\n* GD - batch , Stochastic, mini-batch \\n\\n*Learning curves \\n    - How to determine how complex my model should be, overfitting/underfitting (regressions)\\n    - Plot - RMSE over train/test sizes\\n    \\n* Regularized Linear Models \\n1. Ridge Regression\\n    - Forces learning algorithm to fit the data, but also keep the model weights\\n    small as possible \\n    - Regularization only adds with training \\n    - cost function can be different in training and validation \\n    - Sensitive to scale of the feature ( StandardScaler)\\n\\n2. Lasso regression \\n    -l1 regularization \\n    -eliminate weights of least important features \\n3. Elastic nect \\n4. Early stopping \\n    - compare train/val errors \\n    \\n** Logistic Regression \\n\\n\\n'"
      ]
     },
     "execution_count": 238,
     "metadata": {},
     "output_type": "execute_result"
    }
   ],
   "source": [
    "\"\"\"\n",
    "Chapter 01 - End to End machine learning project \n",
    "%config IPCompleter.greedy=True\n",
    "* frame problems\n",
    "* define performance measure\n",
    "    - ex: RMSE \n",
    "* Load data \n",
    "    - import pandas as pd (read_csv)\n",
    "    - import os\n",
    "* Analyze the distribution of features \n",
    "    - import matplotlib.pyplot as plt \n",
    "    - import pandas as pd (head, describe, value_counts, hist  )\n",
    "* train, test selection \n",
    "    - import numpy as np \n",
    "    - from sklearn.model_selection import train_test_split\n",
    "    - from sklearn.model_selection import StratifiedShuffleSplit\n",
    "* EDA - correlation, scatter plots, find preprocessed or croped values of features, anomalies in distribution \n",
    "    - import pandas as pd (corr, plot)\n",
    "    - from pandas.tools.plotting import scatter_matrix\n",
    "    - import matplotlib.pyplot as plt (get_cmap)\n",
    "* experiment different feature combinations \n",
    "* handeling missing values\n",
    "    - from sklearn.preprocessing import Imputer\n",
    "* handel categorical variables - label encoding, onehot encoding\n",
    "    - from sklearn.preprocessing import LabelEncoder #lab\n",
    "    - from sklearn.preprocessing import OneHotEncoder # return scipy sparse matrix\n",
    "    - from sklearn.preprocessing import LabelBinarizer\n",
    "* Writing custom feature transformation using sklearn\n",
    "    - from sklearn.base import BaseEstimator, TransformerMixin\n",
    "* Feature scaling - normalization(min - max)- not good with outliers , standardization(zero mean, unit variance )\n",
    "    - from sklearn.preprocessing import StandardScaler \n",
    "* transformation piplines \n",
    "    - from sklearn.pipeline import Pipeline\n",
    "    - from sklearn.pipeline import FeatureUnion\n",
    "\n",
    "------ RELATED TO CHAPTER 2 ---\n",
    "*training and evaluating the training set\n",
    "    - from sklearn.linear_model import LinearRegression\n",
    "* Find the error of training - ex: RMSE --> underfit --> complex model, more features, reduce constraints\n",
    "    - from sklearn.metrics import mean_squared_error\n",
    "* Better evaluation using cross validation\n",
    "    - from sklearn.model_selection import cross_val_score\n",
    "* Run validation on multiple models and select good models\n",
    "    - from sklearn.tree import DecisionTreeRegressor\n",
    "    - from sklearn.ensemble import RandomForestRegressor\n",
    "* save trained models \n",
    "    - from skleran.externels import joblib\n",
    "* Fine tune selected models - Grid Search , Randomized Search \n",
    "    - from sklearn.model_selection import GridSearchCV\n",
    "    - from sklearn.model_selection import RandomizedSearchCV\n",
    "    - from scipy.stats import randint as sp_randint\n",
    "* Evaluate the system on test set\n",
    "-----\n",
    "\n",
    "* Launch, monitor and maintain the system\n",
    "\"\"\"\n",
    "\n",
    "\n",
    "\"\"\"\n",
    "Chapter 02 - Classification \n",
    "* train-test split and random shuffeling of traning set (this is actually train and dev set)\n",
    "* EDA \n",
    "* training and evaluating training set \n",
    "    - from sklearn.linear_model import SGDClassifier\n",
    "* Find a proper evaluation metric to maximize/minimize during training \n",
    "* Compare multiple models \n",
    "    - Bias, variance compared to human level performance \n",
    "    - Select best few models \n",
    "    - To avoid bias - (better optimization[GD, SGB, mini batch GD, moment, adam, RMSprop], hyperparameter search[grid serach, ranamize search])\n",
    "    - to avoid variance - (More data, regularization, hyperparameter search)\n",
    "    - analyze PR curve, ROC curve to find better combination of precision and recall\n",
    "    \n",
    "* Select best 2-3 classfiers and run on test set \n",
    "    - Error Analysis \n",
    "    - If preformance is good in test set --> deploy the model \n",
    "    - If performance is not good --\n",
    "         - Change the evaluation metric \n",
    "         - change dev, test sets \n",
    "* Multi class prediction \n",
    "    - OvA or OvO methods can be used\n",
    "    - decision tree, random forest, naive bayes defualt support multi class classification\n",
    "\"\"\"\n",
    "\n",
    "\"\"\"\n",
    "Summary - chapter 04 - Training Models \n",
    "\n",
    "** Linear/Polynomial Regression \n",
    "* We Need Gradient descent when there is no closed form solution (normal equation) or total data set is not fit to the memory \n",
    "* Tweak parameters iteratively to minimize a cost function\n",
    "* cost funciton should be a convex function (MSE)\n",
    "* Random initialization \n",
    "* Learning rate \n",
    "    - too small - take long time to converge \n",
    "    - too high  - jump across the valley and end up on the other side\n",
    "* cost functions with holes, ridges, plateaus or irregular terrains\n",
    "    - reach global minimum and local minimum \n",
    "    - very long time to cross plateau \n",
    "* Features should be in same scale (use StandardScalar)\n",
    "\n",
    "* GD - batch , Stochastic, mini-batch \n",
    "\n",
    "*Learning curves \n",
    "    - How to determine how complex my model should be, overfitting/underfitting (regressions)\n",
    "    - Plot - RMSE over train/test sizes\n",
    "    \n",
    "* Regularized Linear Models \n",
    "1. Ridge Regression\n",
    "    - Forces learning algorithm to fit the data, but also keep the model weights\n",
    "    small as possible \n",
    "    - Regularization only adds with training \n",
    "    - cost function can be different in training and validation \n",
    "    - Sensitive to scale of the feature ( StandardScaler)\n",
    "\n",
    "2. Lasso regression \n",
    "    -l1 regularization \n",
    "    -eliminate weights of least important features \n",
    "3. Elastic nect \n",
    "4. Early stopping \n",
    "    - compare train/val errors \n",
    "    \n",
    "** Logistic Regression \n",
    "* classifcation algorithm \n",
    "* cost function is log loss \n",
    "\n",
    "\n",
    "\"\"\""
   ]
  },
  {
   "cell_type": "code",
   "execution_count": 4,
   "metadata": {},
   "outputs": [
    {
     "name": "stdout",
     "output_type": "stream",
     "text": [
      "['data', 'target_names', 'target', 'filename', 'DESCR', 'feature_names']\n",
      "['sepal length (cm)', 'sepal width (cm)', 'petal length (cm)', 'petal width (cm)']\n",
      "[1.61561562]\n"
     ]
    },
    {
     "data": {
      "text/plain": [
       "<Figure size 640x480 with 1 Axes>"
      ]
     },
     "metadata": {},
     "output_type": "display_data"
    }
   ],
   "source": [
    "from sklearn.linear_model import LogisticRegression\n",
    "from sklearn import datasets\n",
    "import numpy as np\n",
    "import matplotlib.pyplot as plt\n",
    "\n",
    "iris = datasets.load_iris()\n",
    "print(list(iris.keys()))\n",
    "print(iris['feature_names'])\n",
    "X = iris['data'][:, 3:] #petal width\n",
    "y = (iris[\"target\"] == 2).astype(np.int)\n",
    "\n",
    "log_reg = LogisticRegression(solver=\"liblinear\", random_state=42)\n",
    "log_reg.fit(X, y)\n",
    "\n",
    "X_new = np.linspace(0,3, 1000).reshape(-1, 1) # Since we have only one feature \n",
    "y_prob = log_reg.predict_proba(X_new)\n",
    "\n",
    "#print(y_prob)\n",
    "\n",
    "plt.plot(X_new, y_prob[:,1], \"g-\", label=\"iris\")\n",
    "plt.plot(X_new, y_prob[:,0], \"b--\", label=\"non-iris\")\n",
    "plt.plot(X[y==0], y[y==0], \"bs\")\n",
    "plt.plot(X[y==1], y[y==1], \"g^\")\n",
    "\n",
    "X_boun = X_new[y_prob[:, 1] >= 0.5][0]\n",
    "plt.plot([X_boun, X_boun], [-1, 1], \"k:\")\n",
    "plt.axis([0,3,0,1.02])\n",
    "print(X_boun)\n",
    "\n",
    "plt.legend(loc=\"center right\")\n",
    "plt.show()\n",
    "\n",
    "\n"
   ]
  },
  {
   "cell_type": "code",
   "execution_count": 5,
   "metadata": {},
   "outputs": [
    {
     "data": {
      "image/png": "[encoded data removed]",
      "text/plain": [
       "<Figure size 720x288 with 1 Axes>"
      ]
     },
     "metadata": {},
     "output_type": "display_data"
    }
   ],
   "source": [
    "# decision boundary using two features \n",
    "\n",
    "X = iris['data'][:, 2:] #petal width\n",
    "y = (iris[\"target\"] == 2).astype(np.int)\n",
    "\n",
    "x0, x1 = np.meshgrid(\n",
    "        np.linspace(2.9, 7, 500).reshape(-1, 1),\n",
    "        np.linspace(0.8, 2.7, 200).reshape(-1, 1),\n",
    "    )\n",
    "\n",
    "X_new = np.c_[x0.ravel(), x1.ravel()]\n",
    "\n",
    "log_reg = LogisticRegression(solver=\"liblinear\",  C=10**10, random_state=42)\n",
    "log_reg.fit(X,y)\n",
    "y_prob = log_reg.predict_proba(X_new)\n",
    "\n",
    "\n",
    "plt.figure(figsize=(10, 4))\n",
    "plt.plot(X[y==0, 0], X[y==0, 1], \"bs\")\n",
    "plt.plot(X[y==1, 0], X[y==1, 1], \"g^\")\n",
    "\n",
    "zz = y_prob[:, 1].reshape(x0.shape)\n",
    "contour = plt.contour(x0, x1, zz, cmap=plt.cm.brg)\n",
    "plt.clabel(contour, inline=1, fontsize=12)\n",
    "\n",
    "left_right = np.array([2, 7])\n",
    "boundary = -(log_reg.coef_[0][0] * left_right + log_reg.intercept_[0]) / log_reg.coef_[0][1]\n",
    "\n",
    "plt.plot(left_right, boundary, \"k--\")\n",
    "\n",
    "plt.show()\n",
    "\n",
    "#print(x0.shape)\n",
    "#print(x0.ravel().shape)\n",
    "#X_new = np.linspace(0,3, 1000).reshape(-1, 1) \n",
    "#print(X_new)"
   ]
  },
  {
   "cell_type": "code",
   "execution_count": 6,
   "metadata": {},
   "outputs": [
    {
     "name": "stdout",
     "output_type": "stream",
     "text": [
      "(200, 500)\n"
     ]
    }
   ],
   "source": [
    "print(zz.shape)"
   ]
  },
  {
   "cell_type": "code",
   "execution_count": 7,
   "metadata": {},
   "outputs": [],
   "source": [
    "\n",
    "x0, x1 = np.meshgrid(\n",
    "        np.linspace(2, 7, 5).reshape(-1, 1),\n",
    "        np.linspace(0, 2, 3).reshape(-1, 1),\n",
    "    )"
   ]
  },
  {
   "cell_type": "code",
   "execution_count": 8,
   "metadata": {},
   "outputs": [
    {
     "data": {
      "text/plain": [
       "array([[2.  , 3.25, 4.5 , 5.75, 7.  ],\n",
       "       [2.  , 3.25, 4.5 , 5.75, 7.  ],\n",
       "       [2.  , 3.25, 4.5 , 5.75, 7.  ]])"
      ]
     },
     "execution_count": 8,
     "metadata": {},
     "output_type": "execute_result"
    }
   ],
   "source": [
    "x0"
   ]
  },
  {
   "cell_type": "code",
   "execution_count": 9,
   "metadata": {},
   "outputs": [
    {
     "data": {
      "text/plain": [
       "array([[0., 0., 0., 0., 0.],\n",
       "       [1., 1., 1., 1., 1.],\n",
       "       [2., 2., 2., 2., 2.]])"
      ]
     },
     "execution_count": 9,
     "metadata": {},
     "output_type": "execute_result"
    }
   ],
   "source": [
    "x1"
   ]
  },
  {
   "cell_type": "code",
   "execution_count": 10,
   "metadata": {},
   "outputs": [],
   "source": [
    "X_new = np.c_[x0.ravel(), x1.ravel()]"
   ]
  },
  {
   "cell_type": "code",
   "execution_count": 11,
   "metadata": {},
   "outputs": [
    {
     "data": {
      "text/plain": [
       "array([[2.  , 0.  ],\n",
       "       [3.25, 0.  ],\n",
       "       [4.5 , 0.  ],\n",
       "       [5.75, 0.  ],\n",
       "       [7.  , 0.  ],\n",
       "       [2.  , 1.  ],\n",
       "       [3.25, 1.  ],\n",
       "       [4.5 , 1.  ],\n",
       "       [5.75, 1.  ],\n",
       "       [7.  , 1.  ],\n",
       "       [2.  , 2.  ],\n",
       "       [3.25, 2.  ],\n",
       "       [4.5 , 2.  ],\n",
       "       [5.75, 2.  ],\n",
       "       [7.  , 2.  ]])"
      ]
     },
     "execution_count": 11,
     "metadata": {},
     "output_type": "execute_result"
    }
   ],
   "source": [
    "X_new"
   ]
  },
  {
   "cell_type": "code",
   "execution_count": null,
   "metadata": {},
   "outputs": [],
   "source": [
    "# Softmax regression for multiclass modeling \n",
    "# C - inverse regularization parameter - higher the C , regularization is less \n",
    "# lbfgs - hanlde multinomial loss \n",
    "\n",
    "X = iris['data'][:2]\n",
    "y = iris['target']\n",
    "\n",
    "softmax_reg = LogisticRegression(multi_class='multinomial', solver='lbfgs', C=10)\n",
    "\n"
   ]
  }
 ],
 "metadata": {
  "kernelspec": {
   "display_name": "Python 3",
   "language": "python",
   "name": "python3"
  },
  "language_info": {
   "codemirror_mode": {
    "name": "ipython",
    "version": 3
   },
   "file_extension": ".py",
   "mimetype": "text/x-python",
   "name": "python",
   "nbconvert_exporter": "python",
   "pygments_lexer": "ipython3",
   "version": "3.5.5"
  }
 },
 "nbformat": 4,
 "nbformat_minor": 2
}
