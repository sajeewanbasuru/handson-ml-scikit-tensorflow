{
 "cells": [
  {
   "cell_type": "code",
   "execution_count": 1,
   "metadata": {
    "collapsed": true
   },
   "outputs": [],
   "source": [
    "\"\"\"\n",
    "Chapter 01 - End to End machine learning project \n",
    "%config IPCompleter.greedy=True\n",
    "* frame problems\n",
    "* define performance measure\n",
    "    - ex: RMSE \n",
    "* Load data \n",
    "    - import pandas as pd (read_csv)\n",
    "    - import os\n",
    "* Analyze the distribution of features \n",
    "    - import matplotlib.pyplot as plt \n",
    "    - import pandas as pd (head, describe, value_counts, hist  )\n",
    "* train, test selection \n",
    "    - import numpy as np \n",
    "    - from sklearn.model_selection import train_test_split\n",
    "    - from sklearn.model_selection import StratifiedShuffleSplit\n",
    "* EDA - correlation, scatter plots, find preprocessed or croped values of features, anomalies in distribution \n",
    "    - import pandas as pd (corr, plot)\n",
    "    - from pandas.tools.plotting import scatter_matrix\n",
    "    - import matplotlib.pyplot as plt (get_cmap)\n",
    "* experiment different feature combinations \n",
    "* handeling missing values\n",
    "    - from sklearn.preprocessing import Imputer\n",
    "* handel categorical variables - label encoding, onehot encoding\n",
    "    - from sklearn.preprocessing import LabelEncoder #lab\n",
    "    - from sklearn.preprocessing import OneHotEncoder # return scipy sparse matrix\n",
    "    - from sklearn.preprocessing import LabelBinarizer\n",
    "* Writing custom feature transformation using sklearn\n",
    "    - from sklearn.base import BaseEstimator, TransformerMixin\n",
    "* Feature scaling - normalization(min - max)- not good with outliers , standardization(zero mean, unit variance )\n",
    "    - from sklearn.preprocessing import StandardScaler \n",
    "* transformation piplines \n",
    "    - from sklearn.pipeline import Pipeline\n",
    "    - from sklearn.pipeline import FeatureUnion\n",
    "\n",
    "------ RELATED TO CHAPTER 2 ---\n",
    "*training and evaluating the training set\n",
    "    - from sklearn.linear_model import LinearRegression\n",
    "* Find the error of training - ex: RMSE --> underfit --> complex model, more features, reduce constraints\n",
    "    - from sklearn.metrics import mean_squared_error\n",
    "* Better evaluation using cross validation\n",
    "    - from sklearn.model_selection import cross_val_score\n",
    "* Run validation on multiple models and select good models\n",
    "    - from sklearn.tree import DecisionTreeRegressor\n",
    "    - from sklearn.ensemble import RandomForestRegressor\n",
    "* save trained models \n",
    "    - from skleran.externels import joblib\n",
    "* Fine tune selected models - Grid Search , Randomized Search \n",
    "    - from sklearn.model_selection import GridSearchCV\n",
    "    - from sklearn.model_selection import RandomizedSearchCV\n",
    "    - from scipy.stats import randint as sp_randint\n",
    "* Evaluate the system on test set\n",
    "-----\n",
    "\n",
    "* Launch, monitor and maintain the system\n",
    "\"\"\"\n",
    "\n",
    "\n",
    "\"\"\"\n",
    "Chapter 02 - Classification \n",
    "* train-test split and random shuffeling of traning set (this is actually train and dev set)\n",
    "* EDA \n",
    "* training and evaluating training set \n",
    "    - from sklearn.linear_model import SGDClassifier\n",
    "* Find a proper evaluation metric to maximize/minimize during training \n",
    "* Compare multiple models \n",
    "    - Bias, variance compared to human level performance \n",
    "    - Select best few models \n",
    "    - To avoid bias - (better optimization[GD, SGB, mini batch GD, moment, adam, RMSprop], hyperparameter search[grid serach, ranamize search])\n",
    "    - to avoid variance - (More data, regularization, hyperparameter search)\n",
    "    - analyze PR curve, ROC curve to find better combination of precision and recall\n",
    "    \n",
    "* Select best 2-3 classfiers and run on test set \n",
    "    - Error Analysis \n",
    "    - If preformance is good in test set --> deploy the model \n",
    "    - If performance is not good --\n",
    "         - Change the evaluation metric \n",
    "         - change dev, test sets \n",
    "* Multi class prediction \n",
    "    - OvA or OvO methods can be used\n",
    "    - decision tree, random forest, naive bayes defualt support multi class classification\n",
    "\"\"\"\n",
    "\n",
    "%config IPCompleter.greedy=True\n",
    "from sklearn.datasets import fetch_mldata # contains a dictionalry description, data, target\n",
    "\n",
    "mnist = fetch_mldata('MNIST original')\n",
    "#mnist\n",
    "\n"
   ]
  },
  {
   "cell_type": "code",
   "execution_count": 2,
   "metadata": {},
   "outputs": [
    {
     "data": {
      "text/plain": [
       "{'COL_NAMES': ['label', 'data'],\n",
       " 'DESCR': 'mldata.org dataset: mnist-original',\n",
       " 'data': array([[0, 0, 0, ..., 0, 0, 0],\n",
       "        [0, 0, 0, ..., 0, 0, 0],\n",
       "        [0, 0, 0, ..., 0, 0, 0],\n",
       "        ..., \n",
       "        [0, 0, 0, ..., 0, 0, 0],\n",
       "        [0, 0, 0, ..., 0, 0, 0],\n",
       "        [0, 0, 0, ..., 0, 0, 0]], dtype=uint8),\n",
       " 'target': array([ 0.,  0.,  0., ...,  9.,  9.,  9.])}"
      ]
     },
     "execution_count": 2,
     "metadata": {},
     "output_type": "execute_result"
    }
   ],
   "source": [
    "mnist #numpy array"
   ]
  },
  {
   "cell_type": "code",
   "execution_count": 3,
   "metadata": {
    "collapsed": true
   },
   "outputs": [],
   "source": [
    "# train test split \n",
    "X = mnist.data\n",
    "y = mnist.target\n",
    "\n",
    "X_train, X_test = X[:60000], X[60000:]\n",
    "y_train, y_test = y[:60000], y[60000:]\n",
    "\n"
   ]
  },
  {
   "cell_type": "code",
   "execution_count": 4,
   "metadata": {},
   "outputs": [
    {
     "name": "stdout",
     "output_type": "stream",
     "text": [
      "28.0\n"
     ]
    },
    {
     "data": {
      "image/png": "[encoded data removed]",
      "text/plain": [
       "<matplotlib.figure.Figure at 0x218143cee10>"
      ]
     },
     "metadata": {},
     "output_type": "display_data"
    }
   ],
   "source": [
    "# eda - plot one digit \n",
    "import matplotlib\n",
    "import matplotlib.pyplot as plt\n",
    "import numpy as np\n",
    "\n",
    "print(np.sqrt(X_train.shape[1]))\n",
    "some_number = X_train[36000]\n",
    "some_number_img = some_number.reshape(28, 28)\n",
    "\n",
    "plt.imshow(some_number_img, cmap=matplotlib.cm.binary, interpolation=\"nearest\")\n",
    "plt.show()\n"
   ]
  },
  {
   "cell_type": "code",
   "execution_count": 5,
   "metadata": {},
   "outputs": [
    {
     "name": "stdout",
     "output_type": "stream",
     "text": [
      "(60000, 784)\n",
      "(60000,)\n"
     ]
    }
   ],
   "source": [
    "# training classifiers \n",
    "shuffle_index = np.random.permutation(60000) #some learning algorithms are sensitive to the order of the samples \n",
    "X_train, y_train = X_train[shuffle_index], y_train[shuffle_index]\n",
    "\n",
    "y_train_5 = (y_train == 5)\n",
    "y_test_5 = (y_test == 5)\n",
    "\n",
    "print(X_train.shape)\n",
    "print(y_train_5.shape)\n",
    "\n",
    "\n"
   ]
  },
  {
   "cell_type": "code",
   "execution_count": 6,
   "metadata": {},
   "outputs": [
    {
     "data": {
      "text/plain": [
       "SGDClassifier(alpha=0.0001, average=False, class_weight=None, epsilon=0.1,\n",
       "       eta0=0.0, fit_intercept=True, l1_ratio=0.15,\n",
       "       learning_rate='optimal', loss='hinge', n_iter=5, n_jobs=1,\n",
       "       penalty='l2', power_t=0.5, random_state=1, shuffle=True, verbose=0,\n",
       "       warm_start=False)"
      ]
     },
     "execution_count": 6,
     "metadata": {},
     "output_type": "execute_result"
    }
   ],
   "source": [
    "from sklearn.linear_model import SGDClassifier\n",
    "sgd_clf = SGDClassifier(random_state=1)\n",
    "sgd_clf.fit(X_train, y_train_5)\n"
   ]
  },
  {
   "cell_type": "code",
   "execution_count": 7,
   "metadata": {
    "collapsed": true
   },
   "outputs": [],
   "source": [
    "y_predict = sgd_clf.predict(X_train)"
   ]
  },
  {
   "cell_type": "code",
   "execution_count": 8,
   "metadata": {},
   "outputs": [
    {
     "name": "stdout",
     "output_type": "stream",
     "text": [
      "[False  True False ..., False False False]\n"
     ]
    }
   ],
   "source": [
    "from sklearn.metrics import precision_score\n",
    "from sklearn.metrics import recall_score\n",
    "from sklearn.metrics import f1_score\n",
    "from sklearn.metrics import confusion_matrix\n",
    "from sklearn.model_selection import cross_val_score\n",
    "from sklearn.model_selection import cross_val_predict\n",
    "import random\n",
    "random.seed( 30 )\n",
    "\n",
    "# cross validation \n",
    "scores = cross_val_score(sgd_clf, X_train, y_train_5, cv=3, scoring=\"recall\")\n",
    "y_train_predict = cross_val_predict(sgd_clf, X_train, y_train_5, cv=3)\n",
    "\n",
    "print(y_train_predict)\n"
   ]
  },
  {
   "cell_type": "code",
   "execution_count": 9,
   "metadata": {},
   "outputs": [
    {
     "data": {
      "text/plain": [
       "array([[53502,  1167],\n",
       "       [ 1077,  4254]])"
      ]
     },
     "execution_count": 9,
     "metadata": {},
     "output_type": "execute_result"
    }
   ],
   "source": [
    "confusion_matrix(y_train_predict, y_train_5)\n"
   ]
  },
  {
   "cell_type": "code",
   "execution_count": 10,
   "metadata": {},
   "outputs": [
    {
     "name": "stdout",
     "output_type": "stream",
     "text": [
      "0.797974113675\n",
      "0.792119089317\n"
     ]
    }
   ],
   "source": [
    "print(precision_score( y_train_5, y_train_predict))\n",
    "print(precision_score( y_train_5, y_predict))"
   ]
  },
  {
   "cell_type": "code",
   "execution_count": 11,
   "metadata": {},
   "outputs": [
    {
     "name": "stdout",
     "output_type": "stream",
     "text": [
      "0.784726065302\n",
      "0.83434790629\n"
     ]
    }
   ],
   "source": [
    "print(recall_score(y_train_5, y_train_predict))\n",
    "print(recall_score(y_train_5, y_predict))"
   ]
  },
  {
   "cell_type": "code",
   "execution_count": 12,
   "metadata": {},
   "outputs": [
    {
     "name": "stdout",
     "output_type": "stream",
     "text": [
      "0.791294642857\n",
      "0.812685293325\n"
     ]
    }
   ],
   "source": [
    "print(f1_score( y_train_5, y_train_predict))\n",
    "print(f1_score( y_train_5, y_predict)) # overfit -->"
   ]
  },
  {
   "cell_type": "code",
   "execution_count": 13,
   "metadata": {},
   "outputs": [
    {
     "name": "stdout",
     "output_type": "stream",
     "text": [
      "[ 0.96045  0.96335  0.964  ]\n",
      "[-160680.15562022  211054.23111801 -501953.19677961 ..., -601527.9007893\n",
      " -747550.2193083  -292032.82867452]\n"
     ]
    }
   ],
   "source": [
    "# precision/recall tradeoff \n",
    "y_scores = cross_val_score(sgd_clf, X_train, y_train_5, cv=3)\n",
    "print(y_scores)\n",
    "y_scores = cross_val_predict(sgd_clf, X_train, y_train_5, cv=3, method=\"decision_function\")\n",
    "print(y_scores)\n"
   ]
  },
  {
   "cell_type": "code",
   "execution_count": 14,
   "metadata": {},
   "outputs": [
    {
     "name": "stdout",
     "output_type": "stream",
     "text": [
      "[ 0.09073715  0.09072193  0.09072344 ...,  1.          1.          1.        ]\n",
      "[  1.00000000e+00   9.99815532e-01   9.99815532e-01 ...,   3.68935621e-04\n",
      "   1.84467810e-04   0.00000000e+00]\n",
      "[-1723489.47687413 -1722713.9265904  -1721643.74629836 ...,\n",
      "   805633.90184909   807281.47602967   858164.31244814]\n"
     ]
    }
   ],
   "source": [
    "from sklearn.metrics import precision_recall_curve\n",
    "precision, recall, thresholds = precision_recall_curve(y_train_5, y_scores)\n",
    "print(precision)\n",
    "print(recall)\n",
    "print(thresholds)"
   ]
  },
  {
   "cell_type": "code",
   "execution_count": 15,
   "metadata": {},
   "outputs": [
    {
     "data": {
      "image/png": "[encoded data removed]",
      "text/plain": [
       "<matplotlib.figure.Figure at 0x21817bab2b0>"
      ]
     },
     "metadata": {},
     "output_type": "display_data"
    }
   ],
   "source": [
    "#PR curve uses when number of positives are less compared to data set size\n",
    "def plot_pre_re_vs_thresh(pre, re, th):\n",
    "    plt.plot(th, pre[:-1], label='precision')\n",
    "    plt.plot(th, re[:-1], label='recall')\n",
    "    plt.xlabel(\"Threshold\")\n",
    "    plt.legend(loc=\"upper left\")\n",
    "    return\n",
    "plot_pre_re_vs_thresh(precision, recall, thresholds)\n",
    "plt.show()"
   ]
  },
  {
   "cell_type": "code",
   "execution_count": 16,
   "metadata": {},
   "outputs": [
    {
     "data": {
      "text/plain": [
       "0.89140049140049138"
      ]
     },
     "execution_count": 16,
     "metadata": {},
     "output_type": "execute_result"
    }
   ],
   "source": [
    "y_predict_90 = (y_scores > 70000)\n",
    "precision_score(y_train_5, y_predict_90)"
   ]
  },
  {
   "cell_type": "code",
   "execution_count": 17,
   "metadata": {},
   "outputs": [
    {
     "data": {
      "text/plain": [
       "0.76451374986829634"
      ]
     },
     "execution_count": 17,
     "metadata": {},
     "output_type": "execute_result"
    }
   ],
   "source": [
    "f1_score(y_train_5, y_predict_90)"
   ]
  },
  {
   "cell_type": "code",
   "execution_count": 18,
   "metadata": {},
   "outputs": [
    {
     "data": {
      "text/plain": [
       "'\\nAll the previous steps are optimization steps \\n* Find the required threshold parameter to achieve requied performance measure\\n'"
      ]
     },
     "execution_count": 18,
     "metadata": {},
     "output_type": "execute_result"
    }
   ],
   "source": [
    "\"\"\"\n",
    "All the previous steps are optimization steps \n",
    "* Find the required threshold parameter to achieve requied performance measure\n",
    "\"\"\""
   ]
  },
  {
   "cell_type": "code",
   "execution_count": 19,
   "metadata": {},
   "outputs": [
    {
     "data": {
      "text/plain": [
       "0.79211908931698771"
      ]
     },
     "execution_count": 19,
     "metadata": {},
     "output_type": "execute_result"
    }
   ],
   "source": [
    "y_train_p = sgd_clf.predict(X_train)\n",
    "precision_score(y_train_5, y_train_p)"
   ]
  },
  {
   "cell_type": "code",
   "execution_count": 68,
   "metadata": {},
   "outputs": [
    {
     "data": {
      "text/plain": [
       "0.80021834061135366"
      ]
     },
     "execution_count": 68,
     "metadata": {},
     "output_type": "execute_result"
    }
   ],
   "source": [
    "y_test_p = sgd_clf.predict(X_test)\n",
    "precision_score(y_test_5, y_test_p)"
   ]
  },
  {
   "cell_type": "code",
   "execution_count": 69,
   "metadata": {
    "collapsed": true
   },
   "outputs": [],
   "source": [
    "yp = sgd_clf.decision_function([X_test[0]])"
   ]
  },
  {
   "cell_type": "code",
   "execution_count": 70,
   "metadata": {},
   "outputs": [
    {
     "data": {
      "text/plain": [
       "array([False], dtype=bool)"
      ]
     },
     "execution_count": 70,
     "metadata": {},
     "output_type": "execute_result"
    }
   ],
   "source": [
    "yp > 70000\n"
   ]
  },
  {
   "cell_type": "code",
   "execution_count": 21,
   "metadata": {},
   "outputs": [],
   "source": [
    "y_test_5[0]\n",
    "from sklearn.metrics import fbeta_score, make_scorer\n",
    "def custom_scoring_function(ground_truth, predictions):\n",
    "    diff = np.abs(ground_truth - predictions).max()\n",
    "    return np.log(1 + diff)\n",
    "\n",
    "#my_custom_scorer = make_scorer(my_custom_loss_func, greater_is_better=False)"
   ]
  },
  {
   "cell_type": "code",
   "execution_count": 52,
   "metadata": {},
   "outputs": [],
   "source": [
    "# how to analyze bias and variance from k - fold cross validation \n",
    "scores = cross_val_score(sgd_clf, X_train, y_train_5, cv=10, scoring=\"f1\")\n",
    "from sklearn.tree import DecisionTreeClassifier\n",
    "dtc = DecisionTreeClassifier()\n",
    "#dtc.fit(X_train, y_train_5)\n",
    "scores_t = cross_val_score(dtc, X_train, y_train_5, cv=10, scoring=\"f1\")\n"
   ]
  },
  {
   "cell_type": "code",
   "execution_count": 53,
   "metadata": {},
   "outputs": [
    {
     "name": "stdout",
     "output_type": "stream",
     "text": [
      "[ 0.77292202  0.50416871  0.54752852  0.51744766  0.45943563  0.67109635\n",
      "  0.70614693  0.70491803  0.7641196   0.78021978]\n",
      "[ 0.84814815  0.86813187  0.87822878  0.85844749  0.86753731  0.84826325\n",
      "  0.84587156  0.88014639  0.81776133  0.84428443]\n"
     ]
    }
   ],
   "source": [
    "print(scores)\n",
    "print(scores_t)"
   ]
  },
  {
   "cell_type": "code",
   "execution_count": 54,
   "metadata": {},
   "outputs": [
    {
     "name": "stdout",
     "output_type": "stream",
     "text": [
      "0.642800321906\n",
      "0.855682056097\n"
     ]
    }
   ],
   "source": [
    "print(scores.mean())\n",
    "print(scores_t.mean())"
   ]
  },
  {
   "cell_type": "code",
   "execution_count": 55,
   "metadata": {},
   "outputs": [
    {
     "name": "stdout",
     "output_type": "stream",
     "text": [
      "0.116977579942\n",
      "0.0178493202237\n"
     ]
    }
   ],
   "source": [
    "print(scores.std())\n",
    "print(scores_t.std())"
   ]
  },
  {
   "cell_type": "code",
   "execution_count": 58,
   "metadata": {},
   "outputs": [
    {
     "data": {
      "text/plain": [
       "SGDClassifier(alpha=0.0001, average=False, class_weight=None, epsilon=0.1,\n",
       "       eta0=0.0, fit_intercept=True, l1_ratio=0.15,\n",
       "       learning_rate='optimal', loss='hinge', n_iter=5, n_jobs=1,\n",
       "       penalty='l2', power_t=0.5, random_state=1, shuffle=True, verbose=0,\n",
       "       warm_start=False)"
      ]
     },
     "execution_count": 58,
     "metadata": {},
     "output_type": "execute_result"
    }
   ],
   "source": [
    "dtc.fit(X_train, y_train_5)\n",
    "sgd_clf.fit(X_train, y_train_5)"
   ]
  },
  {
   "cell_type": "code",
   "execution_count": 59,
   "metadata": {},
   "outputs": [],
   "source": [
    "yp_t = dtc.predict(X_test)\n",
    "yp_s = sgd_clf.predict(X_test)"
   ]
  },
  {
   "cell_type": "code",
   "execution_count": 60,
   "metadata": {},
   "outputs": [
    {
     "name": "stdout",
     "output_type": "stream",
     "text": [
      "0.806504065041\n",
      "0.862811791383\n"
     ]
    }
   ],
   "source": [
    "print(f1_score(y_test_5, yp_s))\n",
    "print(f1_score(y_test_5, yp_t))"
   ]
  },
  {
   "cell_type": "code",
   "execution_count": 64,
   "metadata": {
    "collapsed": true
   },
   "outputs": [],
   "source": [
    "from sklearn.ensemble import RandomForestClassifier\n",
    "rfc = RandomForestClassifier()\n",
    "scores_rf = cross_val_score(rfc, X_train, y_train_5, scoring=\"f1\")"
   ]
  },
  {
   "cell_type": "code",
   "execution_count": 66,
   "metadata": {},
   "outputs": [
    {
     "name": "stdout",
     "output_type": "stream",
     "text": [
      "0.90177788831\n",
      "0.00345629366781\n",
      "0.911392405063\n"
     ]
    }
   ],
   "source": [
    "print(scores_rf.mean())\n",
    "print(scores_rf.std())\n",
    "rfc.fit(X_train, y_train_5)\n",
    "yp_rf = rfc.predict(X_test)\n",
    "print(f1_score(y_test_5, yp_rf))"
   ]
  },
  {
   "cell_type": "code",
   "execution_count": 67,
   "metadata": {},
   "outputs": [],
   "source": [
    "y_scores_sgd = cross_val_predict(sgd_clf, X_train, y_train_5, cv=10, method=\"decision_function\")\n",
    "y_scores_tree = cross_val_predict(dtc, X_train, y_train_5, cv=10,method=\"predict_proba\")\n",
    "y_scores_rf = cross_val_predict(rfc, X_train, y_train_5, cv=10,method=\"predict_proba\")"
   ]
  },
  {
   "cell_type": "code",
   "execution_count": 87,
   "metadata": {},
   "outputs": [
    {
     "name": "stdout",
     "output_type": "stream",
     "text": [
      "(60000,)\n",
      "(60000, 2)\n"
     ]
    }
   ],
   "source": [
    "pre_s, re_s, th_s = precision_recall_curve(y_train_5, y_scores_sgd)\n",
    "print(y_scores_sgd.shape)\n",
    "print(y_scores_tree.shape)\n",
    "pre_t, re_t, th_t = precision_recall_curve(y_train_5, y_scores_tree[:,1])\n",
    "pre_rf, re_rf, th_rf = precision_recall_curve(y_train_5, y_scores_rf[:,1])\n"
   ]
  },
  {
   "cell_type": "code",
   "execution_count": 88,
   "metadata": {},
   "outputs": [
    {
     "data": {
      "text/plain": [
       "<matplotlib.text.Text at 0x21818c77e48>"
      ]
     },
     "execution_count": 88,
     "metadata": {},
     "output_type": "execute_result"
    }
   ],
   "source": [
    "plt.plot(re_s, pre_s, label=\"sgd\")\n",
    "plt.plot(re_t, pre_t, label='dec tree')\n",
    "plt.plot(re_rf, pre_rf, label='rand forest')\n",
    "\n",
    "plt.legend(loc='lower right')\n",
    "plt.xlabel(\"recall\")\n",
    "plt.ylabel(\"pecision\")"
   ]
  },
  {
   "cell_type": "code",
   "execution_count": 89,
   "metadata": {},
   "outputs": [
    {
     "data": {
      "image/png": "[encoded data removed]",
      "text/plain": [
       "<matplotlib.figure.Figure at 0x218188c0e10>"
      ]
     },
     "metadata": {},
     "output_type": "display_data"
    }
   ],
   "source": [
    "plt.show()"
   ]
  },
  {
   "cell_type": "code",
   "execution_count": 90,
   "metadata": {
    "collapsed": true
   },
   "outputs": [],
   "source": [
    "from sklearn.metrics import roc_curve\n",
    "\n",
    "pre_s, re_s, th_s = roc_curve(y_train_5, y_scores_sgd)\n",
    "pre_t, re_t, th_t = roc_curve(y_train_5, y_scores_tree[:,1])\n",
    "pre_rf, re_rf, th_rf = roc_curve(y_train_5, y_scores_rf[:,1])\n"
   ]
  },
  {
   "cell_type": "code",
   "execution_count": 92,
   "metadata": {},
   "outputs": [
    {
     "data": {
      "image/png": "[encoded data removed]",
      "text/plain": [
       "<matplotlib.figure.Figure at 0x218185d4b00>"
      ]
     },
     "metadata": {},
     "output_type": "display_data"
    }
   ],
   "source": [
    "plt.plot(pre_s, re_s, label=\"sgd\")\n",
    "plt.plot(pre_t, re_t, label='dec tree')\n",
    "plt.plot(pre_rf, re_rf, label='rand forest')\n",
    "\n",
    "plt.legend(loc='lower right')\n",
    "plt.xlabel(\"False positive rate\")\n",
    "plt.ylabel(\"True positive rate\")\n",
    "plt.show()"
   ]
  },
  {
   "cell_type": "code",
   "execution_count": null,
   "metadata": {
    "collapsed": true
   },
   "outputs": [],
   "source": [
    "## MULTI CLASS CLASSIFICATION\n"
   ]
  }
 ],
 "metadata": {
  "kernelspec": {
   "display_name": "Python 3",
   "language": "python",
   "name": "python3"
  },
  "language_info": {
   "codemirror_mode": {
    "name": "ipython",
    "version": 3
   },
   "file_extension": ".py",
   "mimetype": "text/x-python",
   "name": "python",
   "nbconvert_exporter": "python",
   "pygments_lexer": "ipython3",
   "version": "3.5.5"
  }
 },
 "nbformat": 4,
 "nbformat_minor": 2
}
